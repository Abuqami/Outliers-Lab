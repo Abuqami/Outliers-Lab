{
 "cells": [
  {
   "cell_type": "markdown",
   "id": "timely-involvement",
   "metadata": {},
   "source": [
    "### Import your librares"
   ]
  },
  {
   "cell_type": "code",
   "execution_count": 8,
   "id": "dramatic-briefs",
   "metadata": {},
   "outputs": [],
   "source": [
    "import pandas as pd\n",
    "import numpy as np\n",
    "import pandas as pd\n",
    "import matplotlib.pyplot as plt"
   ]
  },
  {
   "cell_type": "markdown",
   "id": "australian-softball",
   "metadata": {},
   "source": [
    "### Load your dataset"
   ]
  },
  {
   "cell_type": "code",
   "execution_count": 9,
   "id": "average-recipient",
   "metadata": {},
   "outputs": [
    {
     "data": {
      "text/html": [
       "<div>\n",
       "<style scoped>\n",
       "    .dataframe tbody tr th:only-of-type {\n",
       "        vertical-align: middle;\n",
       "    }\n",
       "\n",
       "    .dataframe tbody tr th {\n",
       "        vertical-align: top;\n",
       "    }\n",
       "\n",
       "    .dataframe thead th {\n",
       "        text-align: right;\n",
       "    }\n",
       "</style>\n",
       "<table border=\"1\" class=\"dataframe\">\n",
       "  <thead>\n",
       "    <tr style=\"text-align: right;\">\n",
       "      <th></th>\n",
       "      <th>DATE</th>\n",
       "      <th>PRCP</th>\n",
       "      <th>TMAX</th>\n",
       "      <th>TMIN</th>\n",
       "      <th>RAIN</th>\n",
       "    </tr>\n",
       "  </thead>\n",
       "  <tbody>\n",
       "    <tr>\n",
       "      <th>0</th>\n",
       "      <td>1948-01-01</td>\n",
       "      <td>0.47</td>\n",
       "      <td>51</td>\n",
       "      <td>42</td>\n",
       "      <td>True</td>\n",
       "    </tr>\n",
       "    <tr>\n",
       "      <th>1</th>\n",
       "      <td>1948-01-02</td>\n",
       "      <td>0.59</td>\n",
       "      <td>45</td>\n",
       "      <td>36</td>\n",
       "      <td>True</td>\n",
       "    </tr>\n",
       "    <tr>\n",
       "      <th>2</th>\n",
       "      <td>1948-01-03</td>\n",
       "      <td>0.42</td>\n",
       "      <td>45</td>\n",
       "      <td>35</td>\n",
       "      <td>True</td>\n",
       "    </tr>\n",
       "    <tr>\n",
       "      <th>3</th>\n",
       "      <td>1948-01-04</td>\n",
       "      <td>0.31</td>\n",
       "      <td>45</td>\n",
       "      <td>34</td>\n",
       "      <td>True</td>\n",
       "    </tr>\n",
       "    <tr>\n",
       "      <th>4</th>\n",
       "      <td>1948-01-05</td>\n",
       "      <td>0.17</td>\n",
       "      <td>45</td>\n",
       "      <td>32</td>\n",
       "      <td>True</td>\n",
       "    </tr>\n",
       "  </tbody>\n",
       "</table>\n",
       "</div>"
      ],
      "text/plain": [
       "         DATE  PRCP  TMAX  TMIN  RAIN\n",
       "0  1948-01-01  0.47    51    42  True\n",
       "1  1948-01-02  0.59    45    36  True\n",
       "2  1948-01-03  0.42    45    35  True\n",
       "3  1948-01-04  0.31    45    34  True\n",
       "4  1948-01-05  0.17    45    32  True"
      ]
     },
     "execution_count": 9,
     "metadata": {},
     "output_type": "execute_result"
    }
   ],
   "source": [
    "df = pd.read_csv('seattle_weather.csv')\n",
    "df.head()"
   ]
  },
  {
   "cell_type": "markdown",
   "id": "9f68b54e",
   "metadata": {},
   "source": [
    "### Handle missing data in PRCP and RAIN columns"
   ]
  },
  {
   "cell_type": "code",
   "execution_count": 10,
   "id": "0801bd07",
   "metadata": {},
   "outputs": [
    {
     "data": {
      "text/plain": [
       "DATE    0\n",
       "PRCP    3\n",
       "TMAX    0\n",
       "TMIN    0\n",
       "RAIN    3\n",
       "dtype: int64"
      ]
     },
     "execution_count": 10,
     "metadata": {},
     "output_type": "execute_result"
    }
   ],
   "source": [
    "df.isnull().sum()"
   ]
  },
  {
   "cell_type": "code",
   "execution_count": 11,
   "id": "3ea60372",
   "metadata": {},
   "outputs": [
    {
     "data": {
      "text/html": [
       "<div>\n",
       "<style scoped>\n",
       "    .dataframe tbody tr th:only-of-type {\n",
       "        vertical-align: middle;\n",
       "    }\n",
       "\n",
       "    .dataframe tbody tr th {\n",
       "        vertical-align: top;\n",
       "    }\n",
       "\n",
       "    .dataframe thead th {\n",
       "        text-align: right;\n",
       "    }\n",
       "</style>\n",
       "<table border=\"1\" class=\"dataframe\">\n",
       "  <thead>\n",
       "    <tr style=\"text-align: right;\">\n",
       "      <th></th>\n",
       "      <th>DATE</th>\n",
       "      <th>PRCP</th>\n",
       "      <th>TMAX</th>\n",
       "      <th>TMIN</th>\n",
       "      <th>RAIN</th>\n",
       "    </tr>\n",
       "  </thead>\n",
       "  <tbody>\n",
       "    <tr>\n",
       "      <th>18415</th>\n",
       "      <td>1998-06-02</td>\n",
       "      <td>NaN</td>\n",
       "      <td>72</td>\n",
       "      <td>52</td>\n",
       "      <td>NaN</td>\n",
       "    </tr>\n",
       "    <tr>\n",
       "      <th>18416</th>\n",
       "      <td>1998-06-03</td>\n",
       "      <td>NaN</td>\n",
       "      <td>66</td>\n",
       "      <td>51</td>\n",
       "      <td>NaN</td>\n",
       "    </tr>\n",
       "    <tr>\n",
       "      <th>21067</th>\n",
       "      <td>2005-09-05</td>\n",
       "      <td>NaN</td>\n",
       "      <td>70</td>\n",
       "      <td>52</td>\n",
       "      <td>NaN</td>\n",
       "    </tr>\n",
       "  </tbody>\n",
       "</table>\n",
       "</div>"
      ],
      "text/plain": [
       "             DATE  PRCP  TMAX  TMIN RAIN\n",
       "18415  1998-06-02   NaN    72    52  NaN\n",
       "18416  1998-06-03   NaN    66    51  NaN\n",
       "21067  2005-09-05   NaN    70    52  NaN"
      ]
     },
     "execution_count": 11,
     "metadata": {},
     "output_type": "execute_result"
    }
   ],
   "source": [
    "df[df['PRCP'].isnull() == True]"
   ]
  },
  {
   "cell_type": "code",
   "execution_count": 12,
   "id": "687e5916",
   "metadata": {},
   "outputs": [
    {
     "data": {
      "text/html": [
       "<div>\n",
       "<style scoped>\n",
       "    .dataframe tbody tr th:only-of-type {\n",
       "        vertical-align: middle;\n",
       "    }\n",
       "\n",
       "    .dataframe tbody tr th {\n",
       "        vertical-align: top;\n",
       "    }\n",
       "\n",
       "    .dataframe thead th {\n",
       "        text-align: right;\n",
       "    }\n",
       "</style>\n",
       "<table border=\"1\" class=\"dataframe\">\n",
       "  <thead>\n",
       "    <tr style=\"text-align: right;\">\n",
       "      <th></th>\n",
       "      <th>DATE</th>\n",
       "      <th>PRCP</th>\n",
       "      <th>TMAX</th>\n",
       "      <th>TMIN</th>\n",
       "      <th>RAIN</th>\n",
       "    </tr>\n",
       "  </thead>\n",
       "  <tbody>\n",
       "  </tbody>\n",
       "</table>\n",
       "</div>"
      ],
      "text/plain": [
       "Empty DataFrame\n",
       "Columns: [DATE, PRCP, TMAX, TMIN, RAIN]\n",
       "Index: []"
      ]
     },
     "execution_count": 12,
     "metadata": {},
     "output_type": "execute_result"
    }
   ],
   "source": [
    "\n",
    "\n",
    "df['PRCP'].fillna(method='bfill', inplace=True)\n",
    "df['RAIN'].fillna(method='bfill', inplace=True)\n",
    "\n",
    "# Print to check for null values\n",
    "df[df['PRCP'].isnull() == True] "
   ]
  },
  {
   "cell_type": "markdown",
   "id": "monthly-meter",
   "metadata": {},
   "source": [
    "### Repeat the following steps for each column within outliers\n",
    "\n",
    "* Visualize the outliers\n",
    "* Detect if your data set contains any outliers\n",
    "* Identify lower & higher limit of outliers\n",
    "* Drop all outliers\n",
    "* Visualize the column after processing\n"
   ]
  },
  {
   "cell_type": "code",
   "execution_count": 13,
   "id": "enhanced-forge",
   "metadata": {},
   "outputs": [
    {
     "data": {
      "image/png": "[encoded data removed]",
      "text/plain": [
       "<Figure size 1200x600 with 3 Axes>"
      ]
     },
     "metadata": {},
     "output_type": "display_data"
    }
   ],
   "source": [
    "plt.figure(figsize=(12, 6))\n",
    "\n",
    "plt.subplot(2, 2, 1)\n",
    "plt.boxplot(df['TMAX'], vert=False)\n",
    "plt.title('Box Plot of TMAX (Before Outlier Processing)')\n",
    "plt.xlabel('TMAX')\n",
    "\n",
    "plt.subplot(2, 2, 2)\n",
    "plt.boxplot(df['TMIN'], vert=False)\n",
    "plt.title('Box Plot of TMIN (Before Outlier Processing)')\n",
    "plt.xlabel('TMIN')\n",
    "\n",
    "plt.subplot(2, 2, 3)\n",
    "plt.boxplot(df['PRCP'], vert=False)\n",
    "plt.title('Box Plot of PRCP (Before Outlier Processing)')\n",
    "plt.xlabel('PRCP')\n",
    "\n",
    "\n",
    "plt.tight_layout()\n",
    "plt.show()"
   ]
  },
  {
   "cell_type": "code",
   "execution_count": 14,
   "id": "5c09c202",
   "metadata": {},
   "outputs": [],
   "source": [
    "Q1_prcp = df['PRCP'].quantile(0.25)\n",
    "Q3_prcp = df['PRCP'].quantile(0.75)\n",
    "IQR_prcp = Q3_prcp - Q1_prcp\n",
    "lower_limit_prcp = Q1_prcp - 1.5 * IQR_prcp\n",
    "upper_limit_prcp = Q3_prcp + 1.5 * IQR_prcp\n",
    "\n",
    "Q1_tmax = df['TMAX'].quantile(0.25)\n",
    "Q3_tmax = df['TMAX'].quantile(0.75)\n",
    "IQR_tmax = Q3_tmax - Q1_tmax\n",
    "lower_limit_tmax = Q1_tmax - 1.5 * IQR_tmax\n",
    "upper_limit_tmax = Q3_tmax + 1.5 * IQR_tmax\n",
    "\n",
    "Q1_tmin = df['TMIN'].quantile(0.25)\n",
    "Q3_tmin = df['TMIN'].quantile(0.75)\n",
    "IQR_tmin = Q3_tmin - Q1_tmin\n",
    "lower_limit_tmin = Q1_tmin - 1.5 * IQR_tmin\n",
    "upper_limit_tmin = Q3_tmin + 1.5 * IQR_tmin"
   ]
  },
  {
   "cell_type": "code",
   "execution_count": 17,
   "id": "ddfd4391",
   "metadata": {},
   "outputs": [
    {
     "name": "stdout",
     "output_type": "stream",
     "text": [
      "PRCP:\n",
      "Lower limit for outliers: -0.15000000000000002\n",
      "Upper limit for outliers: 0.25\n",
      "\n",
      "TMAX:\n",
      "Lower limit for outliers: 21.5\n",
      "Upper limit for outliers: 97.5\n",
      "\n",
      "TMIN:\n",
      "Lower limit for outliers: 17.0\n",
      "Upper limit for outliers: 73.0\n",
      "\n"
     ]
    }
   ],
   "source": [
    "print(\"PRCP:\")\n",
    "print(f\"Lower limit for outliers: {lower_limit_prcp}\")\n",
    "print(f\"Upper limit for outliers: {upper_limit_prcp}\")\n",
    "print()\n",
    "\n",
    "print(\"TMAX:\")\n",
    "print(f\"Lower limit for outliers: {lower_limit_tmax}\")\n",
    "print(f\"Upper limit for outliers: {upper_limit_tmax}\")\n",
    "print()\n",
    "\n",
    "print(\"TMIN:\")\n",
    "print(f\"Lower limit for outliers: {lower_limit_tmin}\")\n",
    "print(f\"Upper limit for outliers: {upper_limit_tmin}\")\n",
    "print()"
   ]
  },
  {
   "cell_type": "code",
   "execution_count": 15,
   "id": "daily-crime",
   "metadata": {},
   "outputs": [],
   "source": [
    "df = df[(df['PRCP'] >= lower_limit_prcp) & (df['PRCP'] <= upper_limit_prcp)]\n",
    "df = df[(df['TMAX'] >= lower_limit_tmax) & (df['TMAX'] <= upper_limit_tmax)]\n",
    "df = df[(df['TMIN'] >= lower_limit_tmin) & (df['TMIN'] <= upper_limit_tmin)]\n"
   ]
  },
  {
   "cell_type": "code",
   "execution_count": 16,
   "id": "eedda714",
   "metadata": {},
   "outputs": [
    {
     "data": {
      "image/png": "[encoded data removed]",
      "text/plain": [
       "<Figure size 1200x600 with 3 Axes>"
      ]
     },
     "metadata": {},
     "output_type": "display_data"
    }
   ],
   "source": [
    "plt.figure(figsize=(12, 6))\n",
    "\n",
    "plt.subplot(2, 2, 1)\n",
    "plt.boxplot(df['TMAX'], vert=False)\n",
    "plt.title('Box Plot of TMAX (Before Outlier Processing)')\n",
    "plt.xlabel('TMAX')\n",
    "\n",
    "plt.subplot(2, 2, 2)\n",
    "plt.boxplot(df['TMIN'], vert=False)\n",
    "plt.title('Box Plot of TMIN (Before Outlier Processing)')\n",
    "plt.xlabel('TMIN')\n",
    "\n",
    "plt.subplot(2, 2, 3)\n",
    "plt.boxplot(df['PRCP'], vert=False)\n",
    "plt.title('Box Plot of PRCP (Before Outlier Processing)')\n",
    "plt.xlabel('PRCP')\n",
    "\n",
    "\n",
    "plt.tight_layout()\n",
    "plt.show()"
   ]
  }
 ],
 "metadata": {
  "kernelspec": {
   "display_name": "Python 3 (ipykernel)",
   "language": "python",
   "name": "python3"
  },
  "language_info": {
   "codemirror_mode": {
    "name": "ipython",
    "version": 3
   },
   "file_extension": ".py",
   "mimetype": "text/x-python",
   "name": "python",
   "nbconvert_exporter": "python",
   "pygments_lexer": "ipython3",
   "version": "3.11.3"
  }
 },
 "nbformat": 4,
 "nbformat_minor": 5
}
